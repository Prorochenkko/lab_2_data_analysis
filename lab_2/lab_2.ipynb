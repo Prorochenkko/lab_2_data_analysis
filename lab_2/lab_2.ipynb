{
 "cells": [
  {
   "cell_type": "code",
   "execution_count": 1,
   "id": "initial_id",
   "metadata": {
    "collapsed": true,
    "ExecuteTime": {
     "end_time": "2024-03-27T15:49:09.983738Z",
     "start_time": "2024-03-27T15:49:08.312430Z"
    }
   },
   "outputs": [
    {
     "name": "stdout",
     "output_type": "stream",
     "text": [
      "Setup ok\n"
     ]
    }
   ],
   "source": [
    "# import datetime\n",
    "# import os\n",
    "import urllib\n",
    "# import matplotlib.pyplot as plt\n",
    "import pandas as pd\n",
    "import glob\n",
    "import os\n",
    "\n",
    "print(\"Setup ok\")"
   ]
  },
  {
   "cell_type": "code",
   "outputs": [
    {
     "name": "stdout",
     "output_type": "stream",
     "text": [
      "Folder 'download' was successfully created or already exists.\n"
     ]
    }
   ],
   "source": [
    "folder_path = 'download'\n",
    "\n",
    "if not os.path.exists(folder_path):\n",
    "    os.makedirs(folder_path, exist_ok=True)\n",
    "\n",
    "print(f\"Folder '{folder_path}' was successfully created or already exists.\")"
   ],
   "metadata": {
    "collapsed": false,
    "ExecuteTime": {
     "end_time": "2024-03-27T15:49:54.953266Z",
     "start_time": "2024-03-27T15:49:54.948089Z"
    }
   },
   "id": "d78d0591eb65a467",
   "execution_count": 2
  },
  {
   "cell_type": "markdown",
   "source": [
    "Функція для завантаження даних"
   ],
   "metadata": {
    "collapsed": false
   },
   "id": "ec892ee5a3ca9128"
  },
  {
   "cell_type": "code",
   "outputs": [],
   "source": [
    "import datetime\n",
    "# import os\n",
    "import urllib.request\n",
    "\n",
    "def download_data(province_id, year1=1981, year2=2024):\n",
    "    url = f\"https://www.star.nesdis.noaa.gov/smcd/emb/vci/VH/get_TS_admin.php?country=UKR&provinceID={province_id}&year1={year1}&year2={year2}&type=Mean\"\n",
    "    response = urllib.request.urlopen(url)\n",
    "    \n",
    "    if response.status == 200:  \n",
    "        current_datetime = datetime.datetime.now().strftime('%Y-%m-%d_%H-%M')\n",
    "        filename = f'vhi_id__{province_id}__{current_datetime}.csv'\n",
    "        with open(f'download/{filename}', 'wb') as out: \n",
    "            out.write(response.read())\n",
    "        print(f\"VHI is downloaded for province ID {province_id} into {filename}\")\n",
    "    else:\n",
    "        print(f\"Failed to download data for province ID {province_id}. HTTP status code: {response.status}\")"
   ],
   "metadata": {
    "collapsed": false,
    "ExecuteTime": {
     "end_time": "2024-03-27T15:51:39.740992Z",
     "start_time": "2024-03-27T15:51:39.734105Z"
    }
   },
   "id": "c54eeeab94990bcc",
   "execution_count": 3
  },
  {
   "cell_type": "markdown",
   "source": [
    "Завантаження тестових структуровних данних за номером області"
   ],
   "metadata": {
    "collapsed": false
   },
   "id": "f5256dd674aa6095"
  },
  {
   "cell_type": "code",
   "outputs": [
    {
     "name": "stdout",
     "output_type": "stream",
     "text": [
      "VHI is downloaded for province ID 1 into vhi_id__1__2024-03-27_18-02.csv\n",
      "VHI is downloaded for province ID 2 into vhi_id__2__2024-03-27_18-02.csv\n",
      "VHI is downloaded for province ID 3 into vhi_id__3__2024-03-27_18-02.csv\n",
      "VHI is downloaded for province ID 4 into vhi_id__4__2024-03-27_18-02.csv\n",
      "VHI is downloaded for province ID 5 into vhi_id__5__2024-03-27_18-02.csv\n",
      "VHI is downloaded for province ID 6 into vhi_id__6__2024-03-27_18-02.csv\n",
      "VHI is downloaded for province ID 7 into vhi_id__7__2024-03-27_18-02.csv\n",
      "VHI is downloaded for province ID 8 into vhi_id__8__2024-03-27_18-02.csv\n",
      "VHI is downloaded for province ID 9 into vhi_id__9__2024-03-27_18-03.csv\n",
      "VHI is downloaded for province ID 10 into vhi_id__10__2024-03-27_18-03.csv\n",
      "VHI is downloaded for province ID 11 into vhi_id__11__2024-03-27_18-03.csv\n",
      "VHI is downloaded for province ID 12 into vhi_id__12__2024-03-27_18-03.csv\n",
      "VHI is downloaded for province ID 13 into vhi_id__13__2024-03-27_18-03.csv\n",
      "VHI is downloaded for province ID 14 into vhi_id__14__2024-03-27_18-03.csv\n",
      "VHI is downloaded for province ID 15 into vhi_id__15__2024-03-27_18-03.csv\n",
      "VHI is downloaded for province ID 16 into vhi_id__16__2024-03-27_18-03.csv\n",
      "VHI is downloaded for province ID 17 into vhi_id__17__2024-03-27_18-03.csv\n",
      "VHI is downloaded for province ID 18 into vhi_id__18__2024-03-27_18-03.csv\n",
      "VHI is downloaded for province ID 19 into vhi_id__19__2024-03-27_18-03.csv\n",
      "VHI is downloaded for province ID 20 into vhi_id__20__2024-03-27_18-03.csv\n",
      "VHI is downloaded for province ID 21 into vhi_id__21__2024-03-27_18-03.csv\n",
      "VHI is downloaded for province ID 22 into vhi_id__22__2024-03-27_18-03.csv\n",
      "VHI is downloaded for province ID 23 into vhi_id__23__2024-03-27_18-03.csv\n",
      "VHI is downloaded for province ID 24 into vhi_id__24__2024-03-27_18-03.csv\n",
      "VHI is downloaded for province ID 25 into vhi_id__25__2024-03-27_18-03.csv\n",
      "VHI is downloaded for province ID 26 into vhi_id__26__2024-03-27_18-03.csv\n",
      "VHI is downloaded for province ID 27 into vhi_id__27__2024-03-27_18-03.csv\n",
      "The loading of test structural data was successful\n"
     ]
    }
   ],
   "source": [
    "for i in range(1, 28):\n",
    "    download_data(i)\n",
    "print(\"The loading of test structural data was successful\")"
   ],
   "metadata": {
    "collapsed": false,
    "ExecuteTime": {
     "end_time": "2024-03-27T16:03:16.612704Z",
     "start_time": "2024-03-27T16:02:53.141105Z"
    }
   },
   "id": "3f6bcfb87ad6ba55",
   "execution_count": 5
  },
  {
   "cell_type": "markdown",
   "source": [
    "Відповідність id регіону та його назви"
   ],
   "metadata": {
    "collapsed": false
   },
   "id": "78ce2e33449f2538"
  },
  {
   "cell_type": "code",
   "outputs": [],
   "source": [
    "reg_id_name = {\n",
    "    1: \"Cherkasy\",\n",
    "    2: \"Chernihiv\",\n",
    "    3: \"Chernivtsi\",\n",
    "    4: \"Crimea\",\n",
    "    5: \"Dnipropetrovs'k\",\n",
    "    6: \"Donets'k\",\n",
    "    7: \"Ivano-Frankivs'k\",\n",
    "    8: \"Kharkiv\",\n",
    "    9: \"Kherson\",\n",
    "    10: \"Khmel'nyts'kyy\",\n",
    "    11: \"Kiev\",\n",
    "    12: \"Kiev City\",\n",
    "    13: \"Kirovohrad\",\n",
    "    14: \"Luhans'k\",\n",
    "    15: \"L'viv\",\n",
    "    16: \"Mykolayiv\",\n",
    "    17: \"Odessa\",\n",
    "    18: \"Poltava\",\n",
    "    19: \"Rivne\",\n",
    "    20: \"Sevastopol\",\n",
    "    21: \"Sumy\",\n",
    "    22: \"Ternopil'\",\n",
    "    23: \"Transcarpathia\",\n",
    "    24: \"Vinnytsya\",\n",
    "    25: \"Volyn\",\n",
    "    26: \"Zaporizhzhya\",\n",
    "    27: \"Zhytomyr\",\n",
    "}"
   ],
   "metadata": {
    "collapsed": false,
    "ExecuteTime": {
     "end_time": "2024-03-27T16:03:53.803823Z",
     "start_time": "2024-03-27T16:03:53.799867Z"
    }
   },
   "id": "b6dac60730b403b9",
   "execution_count": 6
  },
  {
   "cell_type": "markdown",
   "source": [
    "Функція ощищення даних і створення загального DataFrame"
   ],
   "metadata": {
    "collapsed": false
   },
   "id": "f17e39f4e79f1216"
  },
  {
   "cell_type": "code",
   "outputs": [],
   "source": [
    "def create_data_frame(folder_path1):\n",
    "\n",
    "    csv_files = glob.glob(folder_path1 + \"/*.csv\")\n",
    "\n",
    "    headers = ['Year', 'Week', 'SMN', 'SMT', 'VCI', 'TCI', 'VHI', 'empty']\n",
    "    frames = []\n",
    "\n",
    "    for file in csv_files:\n",
    "        region_id1 = int(file.split('__')[1]) \n",
    "        df = pd.read_csv(file, header=1, names=headers)  \n",
    "        df.at[0, 'Year'] =  df.at[0, 'Year'][9:]\n",
    "        df=df.drop(df.index[-1])\n",
    "        df = df.drop(df.loc[df['VHI'] == -1].index)\n",
    "        df = df.drop('empty', axis=1)\n",
    "        df.insert(0, 'region_id', region_id1, True)\n",
    "        frames.append(df)\n",
    "        \n",
    "    result = pd.concat(frames).drop_duplicates().reset_index(drop=True)\n",
    "    return result"
   ],
   "metadata": {
    "collapsed": false,
    "ExecuteTime": {
     "end_time": "2024-03-27T16:05:00.153478Z",
     "start_time": "2024-03-27T16:05:00.149114Z"
    }
   },
   "id": "a660f0102da58d0f",
   "execution_count": 8
  },
  {
   "cell_type": "code",
   "outputs": [
    {
     "name": "stdout",
     "output_type": "stream",
     "text": [
      "       region_id  Year  Week    SMN     SMT    VCI    TCI    VHI\n",
      "0             10  1982   1.0  0.059  258.24  51.11  48.78  49.95\n",
      "1             10  1982   2.0  0.063  261.53  55.89  38.20  47.04\n",
      "2             10  1982   3.0  0.063  263.45  57.30  32.69  44.99\n",
      "3             10  1982   4.0  0.061  265.10  53.96  28.62  41.29\n",
      "4             10  1982   5.0  0.058  266.42  46.87  28.57  37.72\n",
      "...          ...   ...   ...    ...     ...    ...    ...    ...\n",
      "57937          9  2024   8.0  0.134  281.83  62.33   3.92  33.13\n",
      "57938          9  2024   9.0  0.147  283.80  61.79   4.57  33.18\n",
      "57939          9  2024  10.0  0.158  285.63  59.96   6.30  33.13\n",
      "57940          9  2024  11.0  0.164  286.56  56.53   9.83  33.18\n",
      "57941          9  2024  12.0  0.175  287.65  55.86  13.89  34.87\n",
      "\n",
      "[57942 rows x 8 columns]\n"
     ]
    }
   ],
   "source": [
    "result_df = create_data_frame('download')\n",
    "print(result_df)"
   ],
   "metadata": {
    "collapsed": false,
    "ExecuteTime": {
     "end_time": "2024-03-27T16:05:28.528525Z",
     "start_time": "2024-03-27T16:05:28.390532Z"
    }
   },
   "id": "140a2b817d6c29ff",
   "execution_count": 9
  },
  {
   "cell_type": "code",
   "outputs": [],
   "source": [
    "def region_year_analysis(region_id, years=(\"1982\", \"2024\")):\n",
    "    result_df['Year'] = pd.to_numeric(result_df['Year'])\n",
    "\n",
    "    df2 = result_df[(result_df[\"Year\"].between(int(years[0]), int(years[1]))) & (result_df['region_id'] == region_id)]\n",
    "    region_name = reg_id_name[region_id]\n",
    "    vhi_max_reg = df2[\"VHI\"].max()\n",
    "    vhi_min_reg = df2[\"VHI\"].min()\n",
    "    print(f\"[+] {region_name}: min {vhi_min_reg} max {vhi_max_reg}\")\n",
    "    # print(df2.head())  # Для перегляду перших кількох рядків фільтрованого датафрейму"
   ],
   "metadata": {
    "collapsed": false,
    "ExecuteTime": {
     "end_time": "2024-03-27T16:06:15.836027Z",
     "start_time": "2024-03-27T16:06:15.831816Z"
    }
   },
   "id": "dd5e0c0aa69f5c91",
   "execution_count": 10
  },
  {
   "cell_type": "code",
   "outputs": [
    {
     "name": "stdout",
     "output_type": "stream",
     "text": [
      "[+] Cherkasy: min 10.68 max 82.09\n",
      "[+] Chernihiv: min 15.17 max 75.11\n",
      "[+] Chernivtsi: min 18.83 max 69.31\n",
      "[+] Crimea: min 13.28 max 77.6\n",
      "[+] Dnipropetrovs'k: min 17.77 max 90.29\n",
      "[+] Donets'k: min 17.4 max 90.34\n",
      "[+] Ivano-Frankivs'k: min 18.98 max 73.35\n",
      "[+] Kharkiv: min 9.36 max 91.42\n",
      "[+] Kherson: min 12.23 max 83.58\n",
      "[+] Khmel'nyts'kyy: min 20.97 max 79.4\n",
      "[+] Kiev: min 10.6 max 80.88\n",
      "[+] Kiev City: min 6.49 max 76.84\n",
      "[+] Kirovohrad: min 16.75 max 84.52\n",
      "[+] Luhans'k: min 22.92 max 90.32\n",
      "[+] L'viv: min 29.53 max 69.96\n",
      "[+] Mykolayiv: min 5.94 max 86.71\n",
      "[+] Odessa: min 5.52 max 83.46\n",
      "[+] Poltava: min 22.52 max 85.14\n",
      "[+] Rivne: min 20.7 max 77.45\n",
      "[+] Sevastopol: min 8.14 max 72.87\n",
      "[+] Sumy: min 16.81 max 77.05\n",
      "[+] Ternopil': min 24.33 max 75.04\n",
      "[+] Transcarpathia: min 20.12 max 72.59\n",
      "[+] Vinnytsya: min 11.25 max 81.44\n",
      "[+] Volyn: min 24.65 max 78.32\n",
      "[+] Zaporizhzhya: min 10.88 max 87.3\n",
      "[+] Zhytomyr: min 26.51 max 75.01\n"
     ]
    }
   ],
   "source": [
    "for i in range(1, 28):\n",
    "    region_year_analysis(region_id=i, years=(\"2000\", \"2010\"))"
   ],
   "metadata": {
    "collapsed": false,
    "ExecuteTime": {
     "end_time": "2024-03-27T16:15:28.499038Z",
     "start_time": "2024-03-27T16:15:28.473222Z"
    }
   },
   "id": "52beb017180899d9",
   "execution_count": 19
  },
  {
   "cell_type": "code",
   "outputs": [],
   "source": [
    "df3 = result_df[(result_df[\"VHI\"] < 35) & (result_df['region_id'] == 1)]"
   ],
   "metadata": {
    "collapsed": false
   },
   "id": "69b657bd77bb2338"
  }
 ],
 "metadata": {
  "kernelspec": {
   "display_name": "Python 3",
   "language": "python",
   "name": "python3"
  },
  "language_info": {
   "codemirror_mode": {
    "name": "ipython",
    "version": 2
   },
   "file_extension": ".py",
   "mimetype": "text/x-python",
   "name": "python",
   "nbconvert_exporter": "python",
   "pygments_lexer": "ipython2",
   "version": "2.7.6"
  }
 },
 "nbformat": 4,
 "nbformat_minor": 5
}
